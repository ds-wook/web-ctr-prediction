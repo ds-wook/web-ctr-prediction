{
 "cells": [
  {
   "cell_type": "code",
   "execution_count": 1,
   "id": "e028e6e7",
   "metadata": {
    "papermill": {
     "duration": 21.012903,
     "end_time": "2024-02-27T08:09:34.846593",
     "exception": false,
     "start_time": "2024-02-27T08:09:13.833690",
     "status": "completed"
    },
    "tags": []
   },
   "outputs": [
    {
     "name": "stderr",
     "output_type": "stream",
     "text": [
      "2024-05-13 16:00:54.358799: I tensorflow/core/util/port.cc:113] oneDNN custom operations are on. You may see slightly different numerical results due to floating-point round-off errors from different computation orders. To turn them off, set the environment variable `TF_ENABLE_ONEDNN_OPTS=0`.\n",
      "2024-05-13 16:00:54.359066: I external/local_tsl/tsl/cuda/cudart_stub.cc:32] Could not find cuda drivers on your machine, GPU will not be used.\n",
      "2024-05-13 16:00:54.362713: I external/local_tsl/tsl/cuda/cudart_stub.cc:32] Could not find cuda drivers on your machine, GPU will not be used.\n",
      "2024-05-13 16:00:54.393230: I tensorflow/core/platform/cpu_feature_guard.cc:210] This TensorFlow binary is optimized to use available CPU instructions in performance-critical operations.\n",
      "To enable the following instructions: AVX2 AVX512F AVX512_VNNI FMA, in other operations, rebuild TensorFlow with the appropriate compiler flags.\n",
      "2024-05-13 16:00:54.940027: W tensorflow/compiler/tf2tensorrt/utils/py_utils.cc:38] TF-TRT Warning: Could not find TensorRT\n"
     ]
    }
   ],
   "source": [
    "import gc\n",
    "import gzip\n",
    "import itertools\n",
    "import time\n",
    "import warnings\n",
    "from pathlib import Path\n",
    "\n",
    "import matplotlib.pyplot as plt\n",
    "import numpy as np\n",
    "import pandas as pd\n",
    "import pyarrow.parquet as pq\n",
    "import seaborn as sns\n",
    "import torch\n",
    "from pytorch_optimizer import MADGRAD\n",
    "from category_encoders import CountEncoder\n",
    "from deepctr_torch.inputs import DenseFeat, SparseFeat, get_feature_names\n",
    "from deepctr_torch.models import AFM, DCN, DIFM, AutoInt, DeepFM, xDeepFM\n",
    "from deepctr_torch.callbacks import EarlyStopping, ModelCheckpoint\n",
    "from matplotlib import pyplot as plt\n",
    "from sklearn import base\n",
    "from sklearn.metrics import confusion_matrix, log_loss, roc_auc_score\n",
    "from sklearn.model_selection import StratifiedKFold, train_test_split\n",
    "from sklearn.preprocessing import MinMaxScaler\n",
    "from tqdm import tqdm\n",
    "from typing_extensions import Self\n",
    "\n",
    "warnings.filterwarnings(\"ignore\")\n"
   ]
  },
  {
   "cell_type": "code",
   "execution_count": 2,
   "id": "9535af2b",
   "metadata": {
    "papermill": {
     "duration": 0.029488,
     "end_time": "2024-02-27T08:09:34.885410",
     "exception": false,
     "start_time": "2024-02-27T08:09:34.855922",
     "status": "completed"
    },
    "tags": []
   },
   "outputs": [],
   "source": [
    "NAN_INT = 7535805\n",
    "\n",
    "\n",
    "class LabelEncoder(base.BaseEstimator):\n",
    "    \"\"\"Label Encoder that groups infrequent values into one label.\n",
    "\n",
    "    Attributes:\n",
    "        min_obs (int): minimum number of observation to assign a label.\n",
    "        label_encoders (list of dict): label encoders for columns\n",
    "        label_maxes (list of int): maximum of labels for columns\n",
    "    \"\"\"\n",
    "\n",
    "    def __init__(self, min_obs: int = 10):\n",
    "        \"\"\"Initialize the OneHotEncoder class object.\n",
    "\n",
    "        Args:\n",
    "            min_obs (int): minimum number of observation to assign a label.\n",
    "        \"\"\"\n",
    "\n",
    "        self.min_obs = min_obs\n",
    "        self.is_fitted = False\n",
    "\n",
    "    def __repr__(self):\n",
    "        return (\"LabelEncoder(min_obs={})\").format(self.min_obs)\n",
    "\n",
    "    def _get_label_encoder_and_max(self, x: pd.Series) -> tuple[dict, int]:\n",
    "        \"\"\"Return a mapping from values and its maximum of a column to integer labels.\n",
    "\n",
    "        Args:\n",
    "            x (pandas.Series): a categorical column to encode.\n",
    "\n",
    "        Returns:\n",
    "            (tuple):\n",
    "                - (dict): mapping from values of features to integers\n",
    "                - (int): maximum label\n",
    "        \"\"\"\n",
    "\n",
    "        # NaN cannot be used as a key for dict. Impute it with a random\n",
    "        # integer.\n",
    "        label_count = x.fillna(NAN_INT).value_counts()\n",
    "        n_uniq = label_count.shape[0]\n",
    "\n",
    "        label_count = label_count[label_count >= self.min_obs]\n",
    "        n_uniq_new = label_count.shape[0]\n",
    "\n",
    "        # If every label appears more than min_obs, new label starts from 0.\n",
    "        # Otherwise, new label starts from 1 and 0 is used for all old labels\n",
    "        # that appear less than min_obs.\n",
    "        offset = 0 if n_uniq == n_uniq_new else 1\n",
    "\n",
    "        label_encoder = pd.Series(np.arange(n_uniq_new) + offset, index=label_count.index)\n",
    "        max_label = label_encoder.max()\n",
    "        label_encoder = label_encoder.to_dict()\n",
    "\n",
    "        return label_encoder, max_label\n",
    "\n",
    "    def _transform_col(self, x: pd.Series, i: int) -> pd.Series:\n",
    "        \"\"\"Encode one categorical column into labels.\n",
    "\n",
    "        Args:\n",
    "            x (pandas.Series): a categorical column to encode\n",
    "            i (int): column index\n",
    "\n",
    "        Returns:\n",
    "            (pandas.Series): a column with labels.\n",
    "        \"\"\"\n",
    "        return x.fillna(NAN_INT).map(self.label_encoders[i]).fillna(0).astype(int)\n",
    "\n",
    "    def fit(self, X: pd.DataFrame, y: pd.Series | None = None) -> Self:\n",
    "        self.label_encoders = [None] * X.shape[1]\n",
    "        self.label_maxes = [None] * X.shape[1]\n",
    "\n",
    "        for i, col in enumerate(X.columns):\n",
    "            (\n",
    "                self.label_encoders[i],\n",
    "                self.label_maxes[i],\n",
    "            ) = self._get_label_encoder_and_max(X[col])\n",
    "\n",
    "        self.is_fitted = True\n",
    "        return self\n",
    "\n",
    "    def transform(self, X: pd.DataFrame) -> pd.DataFrame:\n",
    "        \"\"\"Encode categorical columns into label encoded columns\n",
    "\n",
    "        Args:\n",
    "            X (pandas.DataFrame): categorical columns to encode\n",
    "\n",
    "        Returns:\n",
    "            (pandas.DataFrame): label encoded columns\n",
    "        \"\"\"\n",
    "\n",
    "        assert self.is_fitted, \"fit() or fit_transform() must be called before transform().\"\n",
    "\n",
    "        X = X.copy()\n",
    "        for i, col in enumerate(X.columns):\n",
    "            X.loc[:, col] = self._transform_col(X[col], i)\n",
    "\n",
    "        return X\n",
    "\n",
    "    def fit_transform(self, X: pd.DataFrame, y: pd.Series | None = None) -> pd.DataFrame:\n",
    "        \"\"\"Encode categorical columns into label encoded columns\n",
    "\n",
    "        Args:\n",
    "            X (pandas.DataFrame): categorical columns to encode\n",
    "\n",
    "        Returns:\n",
    "            (pandas.DataFrame): label encoded columns\n",
    "        \"\"\"\n",
    "\n",
    "        self.label_encoders = [None] * X.shape[1]\n",
    "        self.label_maxes = [None] * X.shape[1]\n",
    "\n",
    "        X = X.copy()\n",
    "        for i, col in enumerate(X.columns):\n",
    "            (\n",
    "                self.label_encoders[i],\n",
    "                self.label_maxes[i],\n",
    "            ) = self._get_label_encoder_and_max(X[col])\n",
    "\n",
    "            X.loc[:, col] = X[col].fillna(NAN_INT).map(self.label_encoders[i]).fillna(0).astype(int)\n",
    "\n",
    "        self.is_fitted = True\n",
    "        return X"
   ]
  },
  {
   "cell_type": "code",
   "execution_count": 3,
   "id": "0d7ba275",
   "metadata": {
    "papermill": {
     "duration": 47.653093,
     "end_time": "2024-02-27T08:10:22.547253",
     "exception": false,
     "start_time": "2024-02-27T08:09:34.894160",
     "status": "completed"
    },
    "tags": []
   },
   "outputs": [],
   "source": [
    "path = \"../input/web-ctr-prediction/\"\n",
    "train = pd.read_parquet(path + \"train_sample_0.3_seed1119.parquet\")\n",
    "test = pd.read_parquet(path + \"test.parquet\")"
   ]
  },
  {
   "cell_type": "markdown",
   "id": "a36d16bc",
   "metadata": {
    "papermill": {
     "duration": 0.008698,
     "end_time": "2024-02-27T08:10:22.565179",
     "exception": false,
     "start_time": "2024-02-27T08:10:22.556481",
     "status": "completed"
    },
    "tags": []
   },
   "source": [
    "## DeepFM"
   ]
  },
  {
   "cell_type": "code",
   "execution_count": 4,
   "id": "5d4a283d",
   "metadata": {
    "papermill": {
     "duration": 0.329424,
     "end_time": "2024-02-27T08:10:37.660638",
     "exception": false,
     "start_time": "2024-02-27T08:10:37.331214",
     "status": "completed"
    },
    "tags": []
   },
   "outputs": [],
   "source": [
    "sparse_features = train.select_dtypes(\"object\").columns.to_list()[1:]"
   ]
  },
  {
   "cell_type": "code",
   "execution_count": 5,
   "id": "d7f05448",
   "metadata": {
    "papermill": {
     "duration": 40.065614,
     "end_time": "2024-02-27T08:11:17.735618",
     "exception": false,
     "start_time": "2024-02-27T08:10:37.670004",
     "status": "completed"
    },
    "tags": []
   },
   "outputs": [],
   "source": [
    "lbe = LabelEncoder(10)\n",
    "train[sparse_features] = lbe.fit_transform(train[sparse_features])\n",
    "test[sparse_features] = lbe.transform(test[sparse_features])\n",
    "\n",
    "for col in sparse_features:\n",
    "    train[col] = train[col].astype(int)\n",
    "    test[col] = test[col].astype(int)\n",
    "\n",
    "train = train.fillna(0)\n",
    "test = test.fillna(0)"
   ]
  },
  {
   "cell_type": "code",
   "execution_count": 6,
   "id": "f1aedd78",
   "metadata": {
    "papermill": {
     "duration": 0.137175,
     "end_time": "2024-02-27T08:11:17.882392",
     "exception": false,
     "start_time": "2024-02-27T08:11:17.745217",
     "status": "completed"
    },
    "tags": []
   },
   "outputs": [],
   "source": [
    "dense_features = train.select_dtypes(\"int64\").columns.to_list() + train.select_dtypes(\"float64\").columns.to_list()\n",
    "dense_features = dense_features[1:]\n",
    "\n",
    "mms = MinMaxScaler(feature_range=(0, 1))\n",
    "train[dense_features] = mms.fit_transform(train[dense_features])\n",
    "test[dense_features] = mms.transform(test[dense_features])"
   ]
  },
  {
   "cell_type": "code",
   "execution_count": 7,
   "id": "b0840eff-4cfc-4324-bb72-54ecd4b0a327",
   "metadata": {},
   "outputs": [
    {
     "name": "stdout",
     "output_type": "stream",
     "text": [
      "Mem. usage decreased to 1035.50 Mb (73.5% reduction)\n",
      "Mem. usage decreased to 372.23 Mb (73.1% reduction)\n"
     ]
    }
   ],
   "source": [
    "def reduce_mem_usage(df: pd.DataFrame, verbose: bool = True) -> pd.DataFrame:\n",
    "    \"\"\"\n",
    "    Iterate through all the columns of a dataframe and modify the data type to reduce memory usage.\n",
    "    \"\"\"\n",
    "    numerics = [\"int16\", \"int32\", \"int64\", \"float16\", \"float32\", \"float64\"]\n",
    "    start_mem = df.memory_usage().sum() / 1024**2\n",
    "\n",
    "    for col in df.columns:\n",
    "        col_type = df[col].dtypes\n",
    "        if col_type in numerics:\n",
    "            c_min = df[col].min()\n",
    "            c_max = df[col].max()\n",
    "            if str(col_type)[:3] == \"int\":\n",
    "                if c_min > np.iinfo(np.int8).min and c_max < np.iinfo(np.int8).max:\n",
    "                    df[col] = df[col].astype(np.int8)\n",
    "                elif c_min > np.iinfo(np.int16).min and c_max < np.iinfo(np.int16).max:\n",
    "                    df[col] = df[col].astype(np.int16)\n",
    "                elif c_min > np.iinfo(np.int32).min and c_max < np.iinfo(np.int32).max:\n",
    "                    df[col] = df[col].astype(np.int32)\n",
    "                elif c_min > np.iinfo(np.int64).min and c_max < np.iinfo(np.int64).max:\n",
    "                    df[col] = df[col].astype(np.int64)\n",
    "            else:\n",
    "                if c_min > np.finfo(np.float16).min and c_max < np.finfo(np.float16).max:\n",
    "                    df[col] = df[col].astype(np.float16)\n",
    "                elif c_min > np.finfo(np.float32).min and c_max < np.finfo(np.float32).max:\n",
    "                    df[col] = df[col].astype(np.float32)\n",
    "                else:\n",
    "                    df[col] = df[col].astype(np.float64)\n",
    "\n",
    "    end_mem = df.memory_usage().sum() / 1024**2\n",
    "\n",
    "    if verbose:\n",
    "        print(f\"Mem. usage decreased to {end_mem:5.2f} Mb ({100 * (start_mem - end_mem) / start_mem:.1f}% reduction)\")\n",
    "\n",
    "    return df\n",
    "\n",
    "\n",
    "train = reduce_mem_usage(train)\n",
    "test = reduce_mem_usage(test)"
   ]
  },
  {
   "cell_type": "code",
   "execution_count": 8,
   "id": "89c86660",
   "metadata": {
    "papermill": {
     "duration": 0.016597,
     "end_time": "2024-02-27T08:11:18.652348",
     "exception": false,
     "start_time": "2024-02-27T08:11:18.635751",
     "status": "completed"
    },
    "tags": []
   },
   "outputs": [],
   "source": [
    "dnn_feature_columns = [\n",
    "    SparseFeat(feat, vocabulary_size=train[feat].nunique(), embedding_dim=4) for i, feat in enumerate(sparse_features)\n",
    "] + [DenseFeat(feat, 1) for feat in dense_features]\n",
    "\n",
    "linear_feature_columns = [\n",
    "    SparseFeat(feat, vocabulary_size=train[feat].nunique(), embedding_dim=4) for i, feat in enumerate(sparse_features)\n",
    "] + [DenseFeat(feat, 1) for feat in dense_features]\n",
    "\n",
    "feature_names = get_feature_names(linear_feature_columns + dnn_feature_columns)"
   ]
  },
  {
   "cell_type": "code",
   "execution_count": null,
   "id": "b990ee3f",
   "metadata": {
    "papermill": {
     "duration": 2774.366806,
     "end_time": "2024-02-27T08:57:35.980062",
     "exception": false,
     "start_time": "2024-02-27T08:11:21.613256",
     "status": "completed"
    },
    "tags": []
   },
   "outputs": [
    {
     "name": "stdout",
     "output_type": "stream",
     "text": [
      "cuda:0\n",
      "Train on 9984415 samples, validate on 2496104 samples, 2438 steps per epoch\n"
     ]
    },
    {
     "name": "stderr",
     "output_type": "stream",
     "text": [
      "2438it [02:24, 16.86it/s]\n"
     ]
    },
    {
     "name": "stdout",
     "output_type": "stream",
     "text": [
      "Epoch 1/20\n",
      "156s - loss:  0.6318 - binary_crossentropy:  0.6318 - auc:  0.6902 - val_binary_crossentropy:  0.6273 - val_auc:  0.7011\n"
     ]
    },
    {
     "name": "stderr",
     "output_type": "stream",
     "text": [
      "2438it [02:24, 16.93it/s]\n"
     ]
    },
    {
     "name": "stdout",
     "output_type": "stream",
     "text": [
      "Epoch 2/20\n",
      "155s - loss:  0.6278 - binary_crossentropy:  0.6278 - auc:  0.6982 - val_binary_crossentropy:  0.6231 - val_auc:  0.7055\n"
     ]
    },
    {
     "name": "stderr",
     "output_type": "stream",
     "text": [
      "2438it [02:29, 16.28it/s]\n"
     ]
    },
    {
     "name": "stdout",
     "output_type": "stream",
     "text": [
      "Epoch 3/20\n",
      "161s - loss:  0.6203 - binary_crossentropy:  0.6203 - auc:  0.7078 - val_binary_crossentropy:  0.6182 - val_auc:  0.7089\n"
     ]
    },
    {
     "name": "stderr",
     "output_type": "stream",
     "text": [
      "2438it [02:31, 16.10it/s]\n"
     ]
    },
    {
     "name": "stdout",
     "output_type": "stream",
     "text": [
      "Epoch 4/20\n",
      "163s - loss:  0.6171 - binary_crossentropy:  0.6171 - auc:  0.7117 - val_binary_crossentropy:  0.6161 - val_auc:  0.7126\n"
     ]
    },
    {
     "name": "stderr",
     "output_type": "stream",
     "text": [
      "2438it [02:33, 15.92it/s]\n"
     ]
    },
    {
     "name": "stdout",
     "output_type": "stream",
     "text": [
      "Epoch 5/20\n",
      "164s - loss:  0.6152 - binary_crossentropy:  0.6152 - auc:  0.7145 - val_binary_crossentropy:  0.6142 - val_auc:  0.7169\n"
     ]
    },
    {
     "name": "stderr",
     "output_type": "stream",
     "text": [
      "2438it [02:29, 16.35it/s]\n"
     ]
    },
    {
     "name": "stdout",
     "output_type": "stream",
     "text": [
      "Epoch 6/20\n",
      "161s - loss:  0.6132 - binary_crossentropy:  0.6132 - auc:  0.7171 - val_binary_crossentropy:  0.6123 - val_auc:  0.7189\n"
     ]
    },
    {
     "name": "stderr",
     "output_type": "stream",
     "text": [
      "2438it [02:25, 16.72it/s]\n"
     ]
    },
    {
     "name": "stdout",
     "output_type": "stream",
     "text": [
      "Epoch 7/20\n",
      "157s - loss:  0.6117 - binary_crossentropy:  0.6117 - auc:  0.7192 - val_binary_crossentropy:  0.6106 - val_auc:  0.7203\n"
     ]
    },
    {
     "name": "stderr",
     "output_type": "stream",
     "text": [
      "2438it [02:26, 16.69it/s]\n"
     ]
    },
    {
     "name": "stdout",
     "output_type": "stream",
     "text": [
      "Epoch 8/20\n",
      "157s - loss:  0.6105 - binary_crossentropy:  0.6105 - auc:  0.7209 - val_binary_crossentropy:  0.6158 - val_auc:  0.7198\n"
     ]
    },
    {
     "name": "stderr",
     "output_type": "stream",
     "text": [
      "2438it [02:23, 16.96it/s]\n"
     ]
    },
    {
     "name": "stdout",
     "output_type": "stream",
     "text": [
      "Epoch 9/20\n",
      "155s - loss:  0.6093 - binary_crossentropy:  0.6093 - auc:  0.7225 - val_binary_crossentropy:  0.6077 - val_auc:  0.7236\n"
     ]
    },
    {
     "name": "stderr",
     "output_type": "stream",
     "text": [
      "2438it [02:24, 16.92it/s]\n"
     ]
    },
    {
     "name": "stdout",
     "output_type": "stream",
     "text": [
      "Epoch 10/20\n",
      "155s - loss:  0.6080 - binary_crossentropy:  0.6080 - auc:  0.7240 - val_binary_crossentropy:  0.6121 - val_auc:  0.7247\n"
     ]
    },
    {
     "name": "stderr",
     "output_type": "stream",
     "text": [
      "2438it [02:24, 16.93it/s]\n"
     ]
    },
    {
     "name": "stdout",
     "output_type": "stream",
     "text": [
      "Epoch 11/20\n",
      "155s - loss:  0.6071 - binary_crossentropy:  0.6071 - auc:  0.7252 - val_binary_crossentropy:  0.6057 - val_auc:  0.7261\n"
     ]
    },
    {
     "name": "stderr",
     "output_type": "stream",
     "text": [
      "2438it [02:25, 16.79it/s]\n"
     ]
    },
    {
     "name": "stdout",
     "output_type": "stream",
     "text": [
      "Epoch 12/20\n",
      "156s - loss:  0.6064 - binary_crossentropy:  0.6064 - auc:  0.7262 - val_binary_crossentropy:  0.6069 - val_auc:  0.7256\n"
     ]
    },
    {
     "name": "stderr",
     "output_type": "stream",
     "text": [
      "2438it [02:23, 16.93it/s]\n"
     ]
    },
    {
     "name": "stdout",
     "output_type": "stream",
     "text": [
      "Epoch 13/20\n",
      "155s - loss:  0.6056 - binary_crossentropy:  0.6056 - auc:  0.7272 - val_binary_crossentropy:  0.6044 - val_auc:  0.7284\n"
     ]
    },
    {
     "name": "stderr",
     "output_type": "stream",
     "text": [
      "2438it [02:25, 16.80it/s]\n"
     ]
    },
    {
     "name": "stdout",
     "output_type": "stream",
     "text": [
      "Epoch 14/20\n",
      "156s - loss:  0.6050 - binary_crossentropy:  0.6050 - auc:  0.7279 - val_binary_crossentropy:  0.6047 - val_auc:  0.7278\n"
     ]
    },
    {
     "name": "stderr",
     "output_type": "stream",
     "text": [
      "2438it [02:26, 16.60it/s]\n"
     ]
    },
    {
     "name": "stdout",
     "output_type": "stream",
     "text": [
      "Epoch 15/20\n",
      "158s - loss:  0.6042 - binary_crossentropy:  0.6042 - auc:  0.7288 - val_binary_crossentropy:  0.6062 - val_auc:  0.7279\n",
      "Epoch 00015: early stopping\n",
      "Fold1 test LogLoss: 0.6062\n",
      "Fold1 test AUC: 0.7279\n",
      "cuda:0\n",
      "Train on 9984415 samples, validate on 2496104 samples, 2438 steps per epoch\n"
     ]
    },
    {
     "name": "stderr",
     "output_type": "stream",
     "text": [
      "2438it [02:24, 16.89it/s]\n"
     ]
    },
    {
     "name": "stdout",
     "output_type": "stream",
     "text": [
      "Epoch 1/20\n",
      "155s - loss:  0.6305 - binary_crossentropy:  0.6305 - auc:  0.6921 - val_binary_crossentropy:  0.6226 - val_auc:  0.7036\n"
     ]
    },
    {
     "name": "stderr",
     "output_type": "stream",
     "text": [
      "2438it [02:25, 16.77it/s]\n"
     ]
    },
    {
     "name": "stdout",
     "output_type": "stream",
     "text": [
      "Epoch 2/20\n",
      "156s - loss:  0.6290 - binary_crossentropy:  0.6290 - auc:  0.6968 - val_binary_crossentropy:  0.6238 - val_auc:  0.7049\n"
     ]
    },
    {
     "name": "stderr",
     "output_type": "stream",
     "text": [
      "2438it [02:24, 16.83it/s]\n"
     ]
    },
    {
     "name": "stdout",
     "output_type": "stream",
     "text": [
      "Epoch 3/20\n",
      "156s - loss:  0.6199 - binary_crossentropy:  0.6199 - auc:  0.7081 - val_binary_crossentropy:  0.6176 - val_auc:  0.7101\n"
     ]
    },
    {
     "name": "stderr",
     "output_type": "stream",
     "text": [
      "2438it [02:24, 16.82it/s]\n"
     ]
    },
    {
     "name": "stdout",
     "output_type": "stream",
     "text": [
      "Epoch 4/20\n",
      "156s - loss:  0.6169 - binary_crossentropy:  0.6169 - auc:  0.7120 - val_binary_crossentropy:  0.6148 - val_auc:  0.7137\n"
     ]
    },
    {
     "name": "stderr",
     "output_type": "stream",
     "text": [
      "2438it [02:24, 16.84it/s]\n"
     ]
    },
    {
     "name": "stdout",
     "output_type": "stream",
     "text": [
      "Epoch 5/20\n",
      "156s - loss:  0.6149 - binary_crossentropy:  0.6149 - auc:  0.7148 - val_binary_crossentropy:  0.6136 - val_auc:  0.7165\n"
     ]
    },
    {
     "name": "stderr",
     "output_type": "stream",
     "text": [
      "2438it [02:25, 16.73it/s]\n"
     ]
    },
    {
     "name": "stdout",
     "output_type": "stream",
     "text": [
      "Epoch 6/20\n",
      "157s - loss:  0.6132 - binary_crossentropy:  0.6132 - auc:  0.7172 - val_binary_crossentropy:  0.6154 - val_auc:  0.7177\n"
     ]
    },
    {
     "name": "stderr",
     "output_type": "stream",
     "text": [
      "2438it [02:25, 16.72it/s]\n"
     ]
    },
    {
     "name": "stdout",
     "output_type": "stream",
     "text": [
      "Epoch 7/20\n",
      "157s - loss:  0.6116 - binary_crossentropy:  0.6116 - auc:  0.7191 - val_binary_crossentropy:  0.6101 - val_auc:  0.7200\n"
     ]
    },
    {
     "name": "stderr",
     "output_type": "stream",
     "text": [
      "2438it [02:27, 16.54it/s]\n"
     ]
    },
    {
     "name": "stdout",
     "output_type": "stream",
     "text": [
      "Epoch 8/20\n",
      "158s - loss:  0.6103 - binary_crossentropy:  0.6103 - auc:  0.7210 - val_binary_crossentropy:  0.6092 - val_auc:  0.7213\n"
     ]
    },
    {
     "name": "stderr",
     "output_type": "stream",
     "text": [
      "2438it [02:27, 16.48it/s]\n"
     ]
    },
    {
     "name": "stdout",
     "output_type": "stream",
     "text": [
      "Epoch 9/20\n",
      "159s - loss:  0.6091 - binary_crossentropy:  0.6091 - auc:  0.7226 - val_binary_crossentropy:  0.6100 - val_auc:  0.7227\n"
     ]
    },
    {
     "name": "stderr",
     "output_type": "stream",
     "text": [
      "2438it [02:25, 16.79it/s]\n"
     ]
    },
    {
     "name": "stdout",
     "output_type": "stream",
     "text": [
      "Epoch 10/20\n",
      "156s - loss:  0.6079 - binary_crossentropy:  0.6079 - auc:  0.7241 - val_binary_crossentropy:  0.6077 - val_auc:  0.7238\n"
     ]
    },
    {
     "name": "stderr",
     "output_type": "stream",
     "text": [
      "2438it [02:22, 17.08it/s]\n"
     ]
    },
    {
     "name": "stdout",
     "output_type": "stream",
     "text": [
      "Epoch 11/20\n",
      "154s - loss:  0.6068 - binary_crossentropy:  0.6068 - auc:  0.7253 - val_binary_crossentropy:  0.6062 - val_auc:  0.7252\n"
     ]
    },
    {
     "name": "stderr",
     "output_type": "stream",
     "text": [
      "2438it [02:22, 17.15it/s]\n"
     ]
    },
    {
     "name": "stdout",
     "output_type": "stream",
     "text": [
      "Epoch 12/20\n",
      "153s - loss:  0.6061 - binary_crossentropy:  0.6061 - auc:  0.7264 - val_binary_crossentropy:  0.6071 - val_auc:  0.7256\n"
     ]
    },
    {
     "name": "stderr",
     "output_type": "stream",
     "text": [
      "2438it [02:22, 17.06it/s]\n"
     ]
    },
    {
     "name": "stdout",
     "output_type": "stream",
     "text": [
      "Epoch 13/20\n",
      "154s - loss:  0.6054 - binary_crossentropy:  0.6054 - auc:  0.7273 - val_binary_crossentropy:  0.6057 - val_auc:  0.7269\n"
     ]
    },
    {
     "name": "stderr",
     "output_type": "stream",
     "text": [
      "2438it [02:23, 16.97it/s]\n"
     ]
    },
    {
     "name": "stdout",
     "output_type": "stream",
     "text": [
      "Epoch 14/20\n",
      "155s - loss:  0.6047 - binary_crossentropy:  0.6047 - auc:  0.7281 - val_binary_crossentropy:  0.6054 - val_auc:  0.7262\n"
     ]
    },
    {
     "name": "stderr",
     "output_type": "stream",
     "text": [
      "2438it [02:23, 16.95it/s]\n"
     ]
    },
    {
     "name": "stdout",
     "output_type": "stream",
     "text": [
      "Epoch 15/20\n",
      "155s - loss:  0.6040 - binary_crossentropy:  0.6040 - auc:  0.7288 - val_binary_crossentropy:  0.6038 - val_auc:  0.7284\n"
     ]
    },
    {
     "name": "stderr",
     "output_type": "stream",
     "text": [
      "2438it [02:23, 16.99it/s]\n"
     ]
    },
    {
     "name": "stdout",
     "output_type": "stream",
     "text": [
      "Epoch 16/20\n",
      "154s - loss:  0.6036 - binary_crossentropy:  0.6036 - auc:  0.7294 - val_binary_crossentropy:  0.6047 - val_auc:  0.7287\n"
     ]
    },
    {
     "name": "stderr",
     "output_type": "stream",
     "text": [
      "2438it [02:23, 16.97it/s]\n"
     ]
    },
    {
     "name": "stdout",
     "output_type": "stream",
     "text": [
      "Epoch 17/20\n",
      "155s - loss:  0.6029 - binary_crossentropy:  0.6029 - auc:  0.7302 - val_binary_crossentropy:  0.6046 - val_auc:  0.7290\n",
      "Epoch 00017: early stopping\n",
      "Fold2 test LogLoss: 0.6046\n",
      "Fold2 test AUC: 0.7290\n",
      "cuda:0\n",
      "Train on 9984415 samples, validate on 2496104 samples, 2438 steps per epoch\n"
     ]
    },
    {
     "name": "stderr",
     "output_type": "stream",
     "text": [
      "2438it [02:24, 16.84it/s]\n"
     ]
    },
    {
     "name": "stdout",
     "output_type": "stream",
     "text": [
      "Epoch 1/20\n",
      "156s - loss:  0.6314 - binary_crossentropy:  0.6314 - auc:  0.6906 - val_binary_crossentropy:  0.6241 - val_auc:  0.7038\n"
     ]
    },
    {
     "name": "stderr",
     "output_type": "stream",
     "text": [
      "2438it [02:23, 16.98it/s]\n"
     ]
    },
    {
     "name": "stdout",
     "output_type": "stream",
     "text": [
      "Epoch 2/20\n",
      "155s - loss:  0.6308 - binary_crossentropy:  0.6308 - auc:  0.6946 - val_binary_crossentropy:  0.6274 - val_auc:  0.7037\n"
     ]
    },
    {
     "name": "stderr",
     "output_type": "stream",
     "text": [
      "2438it [02:22, 17.07it/s]\n"
     ]
    },
    {
     "name": "stdout",
     "output_type": "stream",
     "text": [
      "Epoch 3/20\n",
      "154s - loss:  0.6217 - binary_crossentropy:  0.6217 - auc:  0.7056 - val_binary_crossentropy:  0.6183 - val_auc:  0.7092\n"
     ]
    },
    {
     "name": "stderr",
     "output_type": "stream",
     "text": [
      "2438it [02:26, 16.61it/s]\n"
     ]
    },
    {
     "name": "stdout",
     "output_type": "stream",
     "text": [
      "Epoch 4/20\n",
      "158s - loss:  0.6185 - binary_crossentropy:  0.6185 - auc:  0.7096 - val_binary_crossentropy:  0.6157 - val_auc:  0.7125\n"
     ]
    },
    {
     "name": "stderr",
     "output_type": "stream",
     "text": [
      "2438it [02:27, 16.52it/s]\n"
     ]
    },
    {
     "name": "stdout",
     "output_type": "stream",
     "text": [
      "Epoch 5/20\n",
      "159s - loss:  0.6165 - binary_crossentropy:  0.6165 - auc:  0.7127 - val_binary_crossentropy:  0.6154 - val_auc:  0.7136\n"
     ]
    },
    {
     "name": "stderr",
     "output_type": "stream",
     "text": [
      "2438it [02:28, 16.40it/s]\n"
     ]
    },
    {
     "name": "stdout",
     "output_type": "stream",
     "text": [
      "Epoch 6/20\n",
      "160s - loss:  0.6145 - binary_crossentropy:  0.6145 - auc:  0.7154 - val_binary_crossentropy:  0.6138 - val_auc:  0.7171\n"
     ]
    },
    {
     "name": "stderr",
     "output_type": "stream",
     "text": [
      "2438it [02:25, 16.79it/s]\n"
     ]
    },
    {
     "name": "stdout",
     "output_type": "stream",
     "text": [
      "Epoch 7/20\n",
      "156s - loss:  0.6130 - binary_crossentropy:  0.6130 - auc:  0.7173 - val_binary_crossentropy:  0.6114 - val_auc:  0.7194\n"
     ]
    },
    {
     "name": "stderr",
     "output_type": "stream",
     "text": [
      "2438it [02:25, 16.71it/s]\n"
     ]
    },
    {
     "name": "stdout",
     "output_type": "stream",
     "text": [
      "Epoch 8/20\n",
      "157s - loss:  0.6119 - binary_crossentropy:  0.6119 - auc:  0.7189 - val_binary_crossentropy:  0.6137 - val_auc:  0.7208\n"
     ]
    },
    {
     "name": "stderr",
     "output_type": "stream",
     "text": [
      "2438it [02:24, 16.85it/s]\n"
     ]
    },
    {
     "name": "stdout",
     "output_type": "stream",
     "text": [
      "Epoch 9/20\n",
      "156s - loss:  0.6110 - binary_crossentropy:  0.6110 - auc:  0.7203 - val_binary_crossentropy:  0.6102 - val_auc:  0.7197\n"
     ]
    },
    {
     "name": "stderr",
     "output_type": "stream",
     "text": [
      "2438it [02:25, 16.72it/s]\n"
     ]
    },
    {
     "name": "stdout",
     "output_type": "stream",
     "text": [
      "Epoch 10/20\n",
      "157s - loss:  0.6099 - binary_crossentropy:  0.6099 - auc:  0.7216 - val_binary_crossentropy:  0.6118 - val_auc:  0.7225\n"
     ]
    },
    {
     "name": "stderr",
     "output_type": "stream",
     "text": [
      "2438it [02:27, 16.55it/s]\n"
     ]
    },
    {
     "name": "stdout",
     "output_type": "stream",
     "text": [
      "Epoch 11/20\n",
      "158s - loss:  0.6091 - binary_crossentropy:  0.6091 - auc:  0.7226 - val_binary_crossentropy:  0.6087 - val_auc:  0.7232\n"
     ]
    },
    {
     "name": "stderr",
     "output_type": "stream",
     "text": [
      "2438it [02:26, 16.65it/s]\n"
     ]
    },
    {
     "name": "stdout",
     "output_type": "stream",
     "text": [
      "Epoch 12/20\n",
      "157s - loss:  0.6085 - binary_crossentropy:  0.6085 - auc:  0.7236 - val_binary_crossentropy:  0.6091 - val_auc:  0.7237\n"
     ]
    },
    {
     "name": "stderr",
     "output_type": "stream",
     "text": [
      "2438it [02:24, 16.90it/s]\n"
     ]
    },
    {
     "name": "stdout",
     "output_type": "stream",
     "text": [
      "Epoch 13/20\n",
      "155s - loss:  0.6078 - binary_crossentropy:  0.6078 - auc:  0.7244 - val_binary_crossentropy:  0.6064 - val_auc:  0.7259\n"
     ]
    },
    {
     "name": "stderr",
     "output_type": "stream",
     "text": [
      "2438it [02:26, 16.63it/s]\n"
     ]
    },
    {
     "name": "stdout",
     "output_type": "stream",
     "text": [
      "Epoch 14/20\n",
      "158s - loss:  0.6070 - binary_crossentropy:  0.6070 - auc:  0.7253 - val_binary_crossentropy:  0.6067 - val_auc:  0.7246\n"
     ]
    },
    {
     "name": "stderr",
     "output_type": "stream",
     "text": [
      "2438it [02:30, 16.17it/s]\n"
     ]
    },
    {
     "name": "stdout",
     "output_type": "stream",
     "text": [
      "Epoch 15/20\n",
      "162s - loss:  0.6065 - binary_crossentropy:  0.6065 - auc:  0.7259 - val_binary_crossentropy:  0.6080 - val_auc:  0.7260\n",
      "Epoch 00015: early stopping\n",
      "Fold3 test LogLoss: 0.6080\n",
      "Fold3 test AUC: 0.7260\n",
      "cuda:0\n",
      "Train on 9984415 samples, validate on 2496104 samples, 2438 steps per epoch\n"
     ]
    },
    {
     "name": "stderr",
     "output_type": "stream",
     "text": [
      "2438it [02:27, 16.55it/s]\n"
     ]
    },
    {
     "name": "stdout",
     "output_type": "stream",
     "text": [
      "Epoch 1/20\n",
      "158s - loss:  0.6309 - binary_crossentropy:  0.6309 - auc:  0.6913 - val_binary_crossentropy:  0.6258 - val_auc:  0.7018\n"
     ]
    },
    {
     "name": "stderr",
     "output_type": "stream",
     "text": [
      "2438it [02:27, 16.57it/s]\n"
     ]
    },
    {
     "name": "stdout",
     "output_type": "stream",
     "text": [
      "Epoch 2/20\n",
      "158s - loss:  0.6272 - binary_crossentropy:  0.6272 - auc:  0.6980 - val_binary_crossentropy:  0.6206 - val_auc:  0.7052\n"
     ]
    },
    {
     "name": "stderr",
     "output_type": "stream",
     "text": [
      "2438it [02:26, 16.59it/s]\n"
     ]
    },
    {
     "name": "stdout",
     "output_type": "stream",
     "text": [
      "Epoch 3/20\n",
      "158s - loss:  0.6188 - binary_crossentropy:  0.6188 - auc:  0.7095 - val_binary_crossentropy:  0.6170 - val_auc:  0.7113\n"
     ]
    },
    {
     "name": "stderr",
     "output_type": "stream",
     "text": [
      "2438it [02:27, 16.55it/s]\n"
     ]
    },
    {
     "name": "stdout",
     "output_type": "stream",
     "text": [
      "Epoch 4/20\n",
      "158s - loss:  0.6156 - binary_crossentropy:  0.6156 - auc:  0.7139 - val_binary_crossentropy:  0.6144 - val_auc:  0.7146\n"
     ]
    },
    {
     "name": "stderr",
     "output_type": "stream",
     "text": [
      "2438it [02:27, 16.58it/s]\n"
     ]
    },
    {
     "name": "stdout",
     "output_type": "stream",
     "text": [
      "Epoch 5/20\n",
      "158s - loss:  0.6133 - binary_crossentropy:  0.6133 - auc:  0.7170 - val_binary_crossentropy:  0.6112 - val_auc:  0.7185\n"
     ]
    },
    {
     "name": "stderr",
     "output_type": "stream",
     "text": [
      "2438it [02:26, 16.61it/s]\n"
     ]
    },
    {
     "name": "stdout",
     "output_type": "stream",
     "text": [
      "Epoch 6/20\n",
      "158s - loss:  0.6114 - binary_crossentropy:  0.6114 - auc:  0.7195 - val_binary_crossentropy:  0.6103 - val_auc:  0.7197\n"
     ]
    },
    {
     "name": "stderr",
     "output_type": "stream",
     "text": [
      "2438it [02:28, 16.42it/s]\n"
     ]
    },
    {
     "name": "stdout",
     "output_type": "stream",
     "text": [
      "Epoch 7/20\n",
      "160s - loss:  0.6101 - binary_crossentropy:  0.6101 - auc:  0.7213 - val_binary_crossentropy:  0.6090 - val_auc:  0.7218\n"
     ]
    },
    {
     "name": "stderr",
     "output_type": "stream",
     "text": [
      "2438it [02:27, 16.50it/s]\n"
     ]
    },
    {
     "name": "stdout",
     "output_type": "stream",
     "text": [
      "Epoch 8/20\n",
      "159s - loss:  0.6090 - binary_crossentropy:  0.6090 - auc:  0.7228 - val_binary_crossentropy:  0.6138 - val_auc:  0.7191\n"
     ]
    },
    {
     "name": "stderr",
     "output_type": "stream",
     "text": [
      "2438it [02:27, 16.55it/s]\n"
     ]
    },
    {
     "name": "stdout",
     "output_type": "stream",
     "text": [
      "Epoch 9/20\n",
      "158s - loss:  0.6079 - binary_crossentropy:  0.6079 - auc:  0.7242 - val_binary_crossentropy:  0.6080 - val_auc:  0.7232\n"
     ]
    },
    {
     "name": "stderr",
     "output_type": "stream",
     "text": [
      "2438it [02:26, 16.60it/s]\n"
     ]
    },
    {
     "name": "stdout",
     "output_type": "stream",
     "text": [
      "Epoch 10/20\n",
      "158s - loss:  0.6068 - binary_crossentropy:  0.6068 - auc:  0.7254 - val_binary_crossentropy:  0.6079 - val_auc:  0.7243\n"
     ]
    },
    {
     "name": "stderr",
     "output_type": "stream",
     "text": [
      "2438it [02:27, 16.54it/s]\n"
     ]
    },
    {
     "name": "stdout",
     "output_type": "stream",
     "text": [
      "Epoch 11/20\n",
      "159s - loss:  0.6060 - binary_crossentropy:  0.6060 - auc:  0.7265 - val_binary_crossentropy:  0.6059 - val_auc:  0.7258\n"
     ]
    },
    {
     "name": "stderr",
     "output_type": "stream",
     "text": [
      "2438it [02:26, 16.63it/s]\n"
     ]
    },
    {
     "name": "stdout",
     "output_type": "stream",
     "text": [
      "Epoch 12/20\n",
      "158s - loss:  0.6054 - binary_crossentropy:  0.6054 - auc:  0.7273 - val_binary_crossentropy:  0.6075 - val_auc:  0.7234\n"
     ]
    },
    {
     "name": "stderr",
     "output_type": "stream",
     "text": [
      "2438it [02:26, 16.61it/s]\n"
     ]
    },
    {
     "name": "stdout",
     "output_type": "stream",
     "text": [
      "Epoch 13/20\n",
      "158s - loss:  0.6048 - binary_crossentropy:  0.6048 - auc:  0.7281 - val_binary_crossentropy:  0.6050 - val_auc:  0.7272\n"
     ]
    },
    {
     "name": "stderr",
     "output_type": "stream",
     "text": [
      "2438it [02:27, 16.53it/s]\n"
     ]
    },
    {
     "name": "stdout",
     "output_type": "stream",
     "text": [
      "Epoch 14/20\n",
      "159s - loss:  0.6041 - binary_crossentropy:  0.6041 - auc:  0.7288 - val_binary_crossentropy:  0.6066 - val_auc:  0.7268\n"
     ]
    },
    {
     "name": "stderr",
     "output_type": "stream",
     "text": [
      "2438it [02:30, 16.16it/s]\n"
     ]
    },
    {
     "name": "stdout",
     "output_type": "stream",
     "text": [
      "Epoch 15/20\n",
      "162s - loss:  0.6036 - binary_crossentropy:  0.6036 - auc:  0.7296 - val_binary_crossentropy:  0.6070 - val_auc:  0.7283\n",
      "Epoch 00015: early stopping\n",
      "Fold4 test LogLoss: 0.6070\n",
      "Fold4 test AUC: 0.7283\n",
      "cuda:0\n",
      "Train on 9984416 samples, validate on 2496103 samples, 2438 steps per epoch\n"
     ]
    },
    {
     "name": "stderr",
     "output_type": "stream",
     "text": [
      "2438it [02:30, 16.25it/s]\n"
     ]
    },
    {
     "name": "stdout",
     "output_type": "stream",
     "text": [
      "Epoch 1/20\n",
      "161s - loss:  0.6314 - binary_crossentropy:  0.6314 - auc:  0.6907 - val_binary_crossentropy:  0.6234 - val_auc:  0.7022\n"
     ]
    },
    {
     "name": "stderr",
     "output_type": "stream",
     "text": [
      "1589it [01:36, 19.22it/s]"
     ]
    }
   ],
   "source": [
    "device = torch.device(\"cuda:0\" if torch.cuda.is_available() else \"cpu\")\n",
    "kfold = StratifiedKFold(n_splits=5, shuffle=True, random_state=1119)\n",
    "\n",
    "X = train.drop(columns=[\"Click\"])\n",
    "y = train[\"Click\"]\n",
    "\n",
    "oof_preds = np.zeros((X.shape[0],))\n",
    "nn_preds = np.zeros((test.shape[0],))\n",
    "scores = []\n",
    "\n",
    "for fold, (train_idx, valid_idx) in enumerate(iterable=kfold.split(X=X, y=y), start=1):\n",
    "    train_fold, valid_fold = train.iloc[train_idx], train.iloc[valid_idx]\n",
    "\n",
    "    train_model_input = {name: train_fold[name] for name in feature_names}\n",
    "    valid_model_input = {name: valid_fold[name] for name in feature_names}\n",
    "    test_model_input = {name: test[name] for name in feature_names}\n",
    "\n",
    "    model = DeepFM(\n",
    "        dnn_feature_columns=dnn_feature_columns,\n",
    "        linear_feature_columns=linear_feature_columns,\n",
    "        device=device,\n",
    "        dnn_activation=\"prelu\",\n",
    "        dnn_use_bn=True,\n",
    "        l2_reg_linear=0,\n",
    "        l2_reg_embedding=0,\n",
    "    )\n",
    "\n",
    "    model.compile(\n",
    "        MADGRAD(model.parameters(), lr=0.0001),\n",
    "        \"binary_crossentropy\",\n",
    "        metrics=[\"binary_crossentropy\", \"auc\"],\n",
    "    )\n",
    "\n",
    "    es = EarlyStopping(\n",
    "        monitor=\"val_binary_crossentropy\",\n",
    "        min_delta=0,\n",
    "        verbose=1,\n",
    "        patience=2,\n",
    "        mode=\"min\",\n",
    "    )\n",
    "\n",
    "    history = model.fit(\n",
    "        train_model_input,\n",
    "        train_fold[\"Click\"].values,\n",
    "        batch_size=4096,\n",
    "        epochs=100,\n",
    "        verbose=1,\n",
    "        validation_data=(valid_model_input, valid_fold[\"Click\"].values),\n",
    "        callbacks=[es],\n",
    "    )\n",
    "    val_ans = model.predict(valid_model_input, batch_size=64).flatten()\n",
    "    oof_preds[valid_idx] = val_ans\n",
    "    nn_preds += model.predict(test_model_input, batch_size=64).flatten() / 5\n",
    "\n",
    "    print(f\"Fold{fold} test LogLoss: {log_loss(valid_fold['Click'].values, val_ans):.4f}\")\n",
    "    print(f\"Fold{fold} test AUC: {roc_auc_score(valid_fold['Click'].values, val_ans):.4f}\")\n",
    "    \n",
    "    scores.append(roc_auc_score(valid_fold[\"Click\"].values, val_ans))\n",
    "    del train_fold, valid_fold, model\n",
    "    gc.collect()\n",
    "\n",
    "\n",
    "print(np.mean(scores))\n"
   ]
  },
  {
   "cell_type": "code",
   "execution_count": null,
   "id": "6927f8b6",
   "metadata": {
    "papermill": {
     "duration": 1.512775,
     "end_time": "2024-02-27T08:57:38.769305",
     "exception": false,
     "start_time": "2024-02-27T08:57:37.256530",
     "status": "completed"
    },
    "tags": []
   },
   "outputs": [],
   "source": [
    "del test"
   ]
  },
  {
   "cell_type": "markdown",
   "id": "eb03a227",
   "metadata": {
    "papermill": {
     "duration": 1.257105,
     "end_time": "2024-02-27T09:03:54.586814",
     "exception": false,
     "start_time": "2024-02-27T09:03:53.329709",
     "status": "completed"
    },
    "tags": []
   },
   "source": [
    "## Ensemble"
   ]
  },
  {
   "cell_type": "code",
   "execution_count": null,
   "id": "f12262c1",
   "metadata": {
    "papermill": {
     "duration": 14.552867,
     "end_time": "2024-02-27T09:04:10.347052",
     "exception": false,
     "start_time": "2024-02-27T09:03:55.794185",
     "status": "completed"
    },
    "tags": []
   },
   "outputs": [],
   "source": [
    "submission = pd.read_csv(path + \"sample_submission.csv\")\n",
    "submission[\"Click\"] = nn_preds\n",
    "submission.to_csv(\"../output/5fold-ctr-deepfm.csv\", index=False)"
   ]
  },
  {
   "cell_type": "code",
   "execution_count": null,
   "id": "f8c82330",
   "metadata": {
    "papermill": {
     "duration": 1.219273,
     "end_time": "2024-02-27T09:04:12.819788",
     "exception": false,
     "start_time": "2024-02-27T09:04:11.600515",
     "status": "completed"
    },
    "tags": []
   },
   "outputs": [],
   "source": [
    "submission.head()"
   ]
  }
 ],
 "metadata": {
  "kaggle": {
   "accelerator": "nvidiaTeslaT4",
   "dataSources": [
    {
     "databundleVersionId": 7757170,
     "sourceId": 70954,
     "sourceType": "competition"
    }
   ],
   "dockerImageVersionId": 30648,
   "isGpuEnabled": true,
   "isInternetEnabled": true,
   "language": "python",
   "sourceType": "notebook"
  },
  "kernelspec": {
   "display_name": "Python 3 (ipykernel)",
   "language": "python",
   "name": "python3"
  },
  "language_info": {
   "codemirror_mode": {
    "name": "ipython",
    "version": 3
   },
   "file_extension": ".py",
   "mimetype": "text/x-python",
   "name": "python",
   "nbconvert_exporter": "python",
   "pygments_lexer": "ipython3",
   "version": "3.10.13"
  },
  "papermill": {
   "default_parameters": {},
   "duration": 3327.411595,
   "end_time": "2024-02-27T09:04:17.002891",
   "environment_variables": {},
   "exception": null,
   "input_path": "__notebook__.ipynb",
   "output_path": "__notebook__.ipynb",
   "parameters": {},
   "start_time": "2024-02-27T08:08:49.591296",
   "version": "2.5.0"
  }
 },
 "nbformat": 4,
 "nbformat_minor": 5
}
